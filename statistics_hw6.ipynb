{
 "cells": [
  {
   "cell_type": "code",
   "execution_count": 517,
   "metadata": {},
   "outputs": [],
   "source": [
    "import numpy as np\n",
    "import pandas as pd\n",
    "import seaborn as sn\n",
    "import matplotlib.pyplot as plt\n",
    "from matplotlib import cm\n",
    "from sklearn.model_selection import train_test_split\n",
    "from sklearn.metrics import mean_squared_error\n",
    "from sklearn.linear_model import LinearRegression\n",
    "from sklearn.linear_model import Ridge"
   ]
  },
  {
   "cell_type": "code",
   "execution_count": 345,
   "metadata": {
    "scrolled": true
   },
   "outputs": [
    {
     "data": {
      "text/html": [
       "<div>\n",
       "<style scoped>\n",
       "    .dataframe tbody tr th:only-of-type {\n",
       "        vertical-align: middle;\n",
       "    }\n",
       "\n",
       "    .dataframe tbody tr th {\n",
       "        vertical-align: top;\n",
       "    }\n",
       "\n",
       "    .dataframe thead th {\n",
       "        text-align: right;\n",
       "    }\n",
       "</style>\n",
       "<table border=\"1\" class=\"dataframe\">\n",
       "  <thead>\n",
       "    <tr style=\"text-align: right;\">\n",
       "      <th></th>\n",
       "      <th>x2</th>\n",
       "      <th>x3</th>\n",
       "      <th>x4</th>\n",
       "      <th>y</th>\n",
       "    </tr>\n",
       "  </thead>\n",
       "  <tbody>\n",
       "    <tr>\n",
       "      <th>0</th>\n",
       "      <td>36.4</td>\n",
       "      <td>35.1</td>\n",
       "      <td>33.18</td>\n",
       "      <td>59.80333</td>\n",
       "    </tr>\n",
       "    <tr>\n",
       "      <th>1</th>\n",
       "      <td>28.2</td>\n",
       "      <td>19.2</td>\n",
       "      <td>20.36</td>\n",
       "      <td>10.78000</td>\n",
       "    </tr>\n",
       "    <tr>\n",
       "      <th>2</th>\n",
       "      <td>32.1</td>\n",
       "      <td>22.4</td>\n",
       "      <td>22.82</td>\n",
       "      <td>34.96333</td>\n",
       "    </tr>\n",
       "    <tr>\n",
       "      <th>3</th>\n",
       "      <td>26.1</td>\n",
       "      <td>35.6</td>\n",
       "      <td>33.28</td>\n",
       "      <td>35.87333</td>\n",
       "    </tr>\n",
       "    <tr>\n",
       "      <th>4</th>\n",
       "      <td>44.5</td>\n",
       "      <td>19.1</td>\n",
       "      <td>20.28</td>\n",
       "      <td>25.14667</td>\n",
       "    </tr>\n",
       "    <tr>\n",
       "      <th>5</th>\n",
       "      <td>24.6</td>\n",
       "      <td>21.5</td>\n",
       "      <td>22.30</td>\n",
       "      <td>33.84333</td>\n",
       "    </tr>\n",
       "    <tr>\n",
       "      <th>6</th>\n",
       "      <td>40.0</td>\n",
       "      <td>31.1</td>\n",
       "      <td>29.88</td>\n",
       "      <td>34.04667</td>\n",
       "    </tr>\n",
       "    <tr>\n",
       "      <th>7</th>\n",
       "      <td>31.1</td>\n",
       "      <td>26.1</td>\n",
       "      <td>25.98</td>\n",
       "      <td>28.09000</td>\n",
       "    </tr>\n",
       "    <tr>\n",
       "      <th>8</th>\n",
       "      <td>34.8</td>\n",
       "      <td>32.0</td>\n",
       "      <td>30.70</td>\n",
       "      <td>48.36333</td>\n",
       "    </tr>\n",
       "    <tr>\n",
       "      <th>9</th>\n",
       "      <td>29.0</td>\n",
       "      <td>38.7</td>\n",
       "      <td>35.96</td>\n",
       "      <td>20.19333</td>\n",
       "    </tr>\n",
       "    <tr>\n",
       "      <th>10</th>\n",
       "      <td>34.9</td>\n",
       "      <td>37.9</td>\n",
       "      <td>35.32</td>\n",
       "      <td>45.76000</td>\n",
       "    </tr>\n",
       "    <tr>\n",
       "      <th>11</th>\n",
       "      <td>34.0</td>\n",
       "      <td>22.0</td>\n",
       "      <td>22.60</td>\n",
       "      <td>35.83333</td>\n",
       "    </tr>\n",
       "    <tr>\n",
       "      <th>12</th>\n",
       "      <td>33.8</td>\n",
       "      <td>38.6</td>\n",
       "      <td>35.88</td>\n",
       "      <td>28.99333</td>\n",
       "    </tr>\n",
       "    <tr>\n",
       "      <th>13</th>\n",
       "      <td>35.5</td>\n",
       "      <td>24.7</td>\n",
       "      <td>24.76</td>\n",
       "      <td>24.89333</td>\n",
       "    </tr>\n",
       "    <tr>\n",
       "      <th>14</th>\n",
       "      <td>28.4</td>\n",
       "      <td>30.4</td>\n",
       "      <td>29.32</td>\n",
       "      <td>29.86000</td>\n",
       "    </tr>\n",
       "    <tr>\n",
       "      <th>15</th>\n",
       "      <td>31.4</td>\n",
       "      <td>31.7</td>\n",
       "      <td>30.46</td>\n",
       "      <td>42.08333</td>\n",
       "    </tr>\n",
       "    <tr>\n",
       "      <th>16</th>\n",
       "      <td>19.3</td>\n",
       "      <td>36.0</td>\n",
       "      <td>33.90</td>\n",
       "      <td>28.26333</td>\n",
       "    </tr>\n",
       "    <tr>\n",
       "      <th>17</th>\n",
       "      <td>25.9</td>\n",
       "      <td>27.0</td>\n",
       "      <td>26.60</td>\n",
       "      <td>28.97333</td>\n",
       "    </tr>\n",
       "    <tr>\n",
       "      <th>18</th>\n",
       "      <td>28.8</td>\n",
       "      <td>18.6</td>\n",
       "      <td>19.88</td>\n",
       "      <td>20.66000</td>\n",
       "    </tr>\n",
       "    <tr>\n",
       "      <th>19</th>\n",
       "      <td>32.3</td>\n",
       "      <td>31.5</td>\n",
       "      <td>30.20</td>\n",
       "      <td>31.08000</td>\n",
       "    </tr>\n",
       "    <tr>\n",
       "      <th>20</th>\n",
       "      <td>25.4</td>\n",
       "      <td>36.7</td>\n",
       "      <td>34.36</td>\n",
       "      <td>33.76667</td>\n",
       "    </tr>\n",
       "    <tr>\n",
       "      <th>21</th>\n",
       "      <td>42.8</td>\n",
       "      <td>20.9</td>\n",
       "      <td>21.72</td>\n",
       "      <td>42.90000</td>\n",
       "    </tr>\n",
       "    <tr>\n",
       "      <th>22</th>\n",
       "      <td>30.2</td>\n",
       "      <td>24.5</td>\n",
       "      <td>24.70</td>\n",
       "      <td>28.27000</td>\n",
       "    </tr>\n",
       "    <tr>\n",
       "      <th>23</th>\n",
       "      <td>33.5</td>\n",
       "      <td>17.9</td>\n",
       "      <td>19.42</td>\n",
       "      <td>28.30333</td>\n",
       "    </tr>\n",
       "    <tr>\n",
       "      <th>24</th>\n",
       "      <td>30.1</td>\n",
       "      <td>29.5</td>\n",
       "      <td>28.60</td>\n",
       "      <td>13.49333</td>\n",
       "    </tr>\n",
       "    <tr>\n",
       "      <th>25</th>\n",
       "      <td>22.4</td>\n",
       "      <td>34.0</td>\n",
       "      <td>32.20</td>\n",
       "      <td>31.80667</td>\n",
       "    </tr>\n",
       "    <tr>\n",
       "      <th>26</th>\n",
       "      <td>22.8</td>\n",
       "      <td>17.8</td>\n",
       "      <td>19.24</td>\n",
       "      <td>13.08667</td>\n",
       "    </tr>\n",
       "    <tr>\n",
       "      <th>27</th>\n",
       "      <td>33.6</td>\n",
       "      <td>30.0</td>\n",
       "      <td>29.00</td>\n",
       "      <td>27.32667</td>\n",
       "    </tr>\n",
       "    <tr>\n",
       "      <th>28</th>\n",
       "      <td>39.4</td>\n",
       "      <td>41.9</td>\n",
       "      <td>38.52</td>\n",
       "      <td>54.32667</td>\n",
       "    </tr>\n",
       "    <tr>\n",
       "      <th>29</th>\n",
       "      <td>27.6</td>\n",
       "      <td>24.4</td>\n",
       "      <td>24.42</td>\n",
       "      <td>33.19667</td>\n",
       "    </tr>\n",
       "    <tr>\n",
       "      <th>30</th>\n",
       "      <td>35.4</td>\n",
       "      <td>31.5</td>\n",
       "      <td>30.10</td>\n",
       "      <td>15.55667</td>\n",
       "    </tr>\n",
       "    <tr>\n",
       "      <th>31</th>\n",
       "      <td>28.8</td>\n",
       "      <td>37.8</td>\n",
       "      <td>35.24</td>\n",
       "      <td>27.35333</td>\n",
       "    </tr>\n",
       "    <tr>\n",
       "      <th>32</th>\n",
       "      <td>38.1</td>\n",
       "      <td>34.8</td>\n",
       "      <td>32.84</td>\n",
       "      <td>31.20000</td>\n",
       "    </tr>\n",
       "    <tr>\n",
       "      <th>33</th>\n",
       "      <td>31.8</td>\n",
       "      <td>40.0</td>\n",
       "      <td>37.00</td>\n",
       "      <td>32.24667</td>\n",
       "    </tr>\n",
       "    <tr>\n",
       "      <th>34</th>\n",
       "      <td>16.3</td>\n",
       "      <td>34.4</td>\n",
       "      <td>32.42</td>\n",
       "      <td>25.08333</td>\n",
       "    </tr>\n",
       "    <tr>\n",
       "      <th>35</th>\n",
       "      <td>24.3</td>\n",
       "      <td>36.7</td>\n",
       "      <td>34.36</td>\n",
       "      <td>47.10667</td>\n",
       "    </tr>\n",
       "    <tr>\n",
       "      <th>36</th>\n",
       "      <td>20.9</td>\n",
       "      <td>40.2</td>\n",
       "      <td>37.06</td>\n",
       "      <td>26.48333</td>\n",
       "    </tr>\n",
       "    <tr>\n",
       "      <th>37</th>\n",
       "      <td>29.0</td>\n",
       "      <td>35.3</td>\n",
       "      <td>33.24</td>\n",
       "      <td>52.80666</td>\n",
       "    </tr>\n",
       "    <tr>\n",
       "      <th>38</th>\n",
       "      <td>38.1</td>\n",
       "      <td>23.4</td>\n",
       "      <td>23.72</td>\n",
       "      <td>26.74667</td>\n",
       "    </tr>\n",
       "    <tr>\n",
       "      <th>39</th>\n",
       "      <td>27.1</td>\n",
       "      <td>28.7</td>\n",
       "      <td>27.96</td>\n",
       "      <td>36.38667</td>\n",
       "    </tr>\n",
       "  </tbody>\n",
       "</table>\n",
       "</div>"
      ],
      "text/plain": [
       "      x2    x3     x4         y\n",
       "0   36.4  35.1  33.18  59.80333\n",
       "1   28.2  19.2  20.36  10.78000\n",
       "2   32.1  22.4  22.82  34.96333\n",
       "3   26.1  35.6  33.28  35.87333\n",
       "4   44.5  19.1  20.28  25.14667\n",
       "5   24.6  21.5  22.30  33.84333\n",
       "6   40.0  31.1  29.88  34.04667\n",
       "7   31.1  26.1  25.98  28.09000\n",
       "8   34.8  32.0  30.70  48.36333\n",
       "9   29.0  38.7  35.96  20.19333\n",
       "10  34.9  37.9  35.32  45.76000\n",
       "11  34.0  22.0  22.60  35.83333\n",
       "12  33.8  38.6  35.88  28.99333\n",
       "13  35.5  24.7  24.76  24.89333\n",
       "14  28.4  30.4  29.32  29.86000\n",
       "15  31.4  31.7  30.46  42.08333\n",
       "16  19.3  36.0  33.90  28.26333\n",
       "17  25.9  27.0  26.60  28.97333\n",
       "18  28.8  18.6  19.88  20.66000\n",
       "19  32.3  31.5  30.20  31.08000\n",
       "20  25.4  36.7  34.36  33.76667\n",
       "21  42.8  20.9  21.72  42.90000\n",
       "22  30.2  24.5  24.70  28.27000\n",
       "23  33.5  17.9  19.42  28.30333\n",
       "24  30.1  29.5  28.60  13.49333\n",
       "25  22.4  34.0  32.20  31.80667\n",
       "26  22.8  17.8  19.24  13.08667\n",
       "27  33.6  30.0  29.00  27.32667\n",
       "28  39.4  41.9  38.52  54.32667\n",
       "29  27.6  24.4  24.42  33.19667\n",
       "30  35.4  31.5  30.10  15.55667\n",
       "31  28.8  37.8  35.24  27.35333\n",
       "32  38.1  34.8  32.84  31.20000\n",
       "33  31.8  40.0  37.00  32.24667\n",
       "34  16.3  34.4  32.42  25.08333\n",
       "35  24.3  36.7  34.36  47.10667\n",
       "36  20.9  40.2  37.06  26.48333\n",
       "37  29.0  35.3  33.24  52.80666\n",
       "38  38.1  23.4  23.72  26.74667\n",
       "39  27.1  28.7  27.96  36.38667"
      ]
     },
     "execution_count": 345,
     "metadata": {},
     "output_type": "execute_result"
    }
   ],
   "source": [
    "data = pd.read_csv('HW6.csv', delimiter=';')[['x2_2', 'x3_2', 'x4_2', 'y_2']].dropna()\n",
    "data = data.rename(columns={'x2_2': 'x2', 'x3_2': 'x3', 'x4_2': 'x4', 'y_2': 'y'})\n",
    "data"
   ]
  },
  {
   "cell_type": "code",
   "execution_count": 346,
   "metadata": {},
   "outputs": [],
   "source": [
    "X = data[['x2', 'x3', 'x4']]\n",
    "y = data['y']"
   ]
  },
  {
   "cell_type": "code",
   "execution_count": 347,
   "metadata": {},
   "outputs": [
    {
     "data": {
      "text/html": [
       "<div>\n",
       "<style scoped>\n",
       "    .dataframe tbody tr th:only-of-type {\n",
       "        vertical-align: middle;\n",
       "    }\n",
       "\n",
       "    .dataframe tbody tr th {\n",
       "        vertical-align: top;\n",
       "    }\n",
       "\n",
       "    .dataframe thead th {\n",
       "        text-align: right;\n",
       "    }\n",
       "</style>\n",
       "<table border=\"1\" class=\"dataframe\">\n",
       "  <thead>\n",
       "    <tr style=\"text-align: right;\">\n",
       "      <th></th>\n",
       "      <th>x2</th>\n",
       "      <th>x3</th>\n",
       "      <th>x4</th>\n",
       "    </tr>\n",
       "  </thead>\n",
       "  <tbody>\n",
       "    <tr>\n",
       "      <th>0</th>\n",
       "      <td>36.4</td>\n",
       "      <td>35.1</td>\n",
       "      <td>33.18</td>\n",
       "    </tr>\n",
       "    <tr>\n",
       "      <th>1</th>\n",
       "      <td>28.2</td>\n",
       "      <td>19.2</td>\n",
       "      <td>20.36</td>\n",
       "    </tr>\n",
       "    <tr>\n",
       "      <th>2</th>\n",
       "      <td>32.1</td>\n",
       "      <td>22.4</td>\n",
       "      <td>22.82</td>\n",
       "    </tr>\n",
       "    <tr>\n",
       "      <th>3</th>\n",
       "      <td>26.1</td>\n",
       "      <td>35.6</td>\n",
       "      <td>33.28</td>\n",
       "    </tr>\n",
       "    <tr>\n",
       "      <th>4</th>\n",
       "      <td>44.5</td>\n",
       "      <td>19.1</td>\n",
       "      <td>20.28</td>\n",
       "    </tr>\n",
       "    <tr>\n",
       "      <th>5</th>\n",
       "      <td>24.6</td>\n",
       "      <td>21.5</td>\n",
       "      <td>22.30</td>\n",
       "    </tr>\n",
       "    <tr>\n",
       "      <th>6</th>\n",
       "      <td>40.0</td>\n",
       "      <td>31.1</td>\n",
       "      <td>29.88</td>\n",
       "    </tr>\n",
       "    <tr>\n",
       "      <th>7</th>\n",
       "      <td>31.1</td>\n",
       "      <td>26.1</td>\n",
       "      <td>25.98</td>\n",
       "    </tr>\n",
       "    <tr>\n",
       "      <th>8</th>\n",
       "      <td>34.8</td>\n",
       "      <td>32.0</td>\n",
       "      <td>30.70</td>\n",
       "    </tr>\n",
       "    <tr>\n",
       "      <th>9</th>\n",
       "      <td>29.0</td>\n",
       "      <td>38.7</td>\n",
       "      <td>35.96</td>\n",
       "    </tr>\n",
       "    <tr>\n",
       "      <th>10</th>\n",
       "      <td>34.9</td>\n",
       "      <td>37.9</td>\n",
       "      <td>35.32</td>\n",
       "    </tr>\n",
       "    <tr>\n",
       "      <th>11</th>\n",
       "      <td>34.0</td>\n",
       "      <td>22.0</td>\n",
       "      <td>22.60</td>\n",
       "    </tr>\n",
       "    <tr>\n",
       "      <th>12</th>\n",
       "      <td>33.8</td>\n",
       "      <td>38.6</td>\n",
       "      <td>35.88</td>\n",
       "    </tr>\n",
       "    <tr>\n",
       "      <th>13</th>\n",
       "      <td>35.5</td>\n",
       "      <td>24.7</td>\n",
       "      <td>24.76</td>\n",
       "    </tr>\n",
       "    <tr>\n",
       "      <th>14</th>\n",
       "      <td>28.4</td>\n",
       "      <td>30.4</td>\n",
       "      <td>29.32</td>\n",
       "    </tr>\n",
       "    <tr>\n",
       "      <th>15</th>\n",
       "      <td>31.4</td>\n",
       "      <td>31.7</td>\n",
       "      <td>30.46</td>\n",
       "    </tr>\n",
       "    <tr>\n",
       "      <th>16</th>\n",
       "      <td>19.3</td>\n",
       "      <td>36.0</td>\n",
       "      <td>33.90</td>\n",
       "    </tr>\n",
       "    <tr>\n",
       "      <th>17</th>\n",
       "      <td>25.9</td>\n",
       "      <td>27.0</td>\n",
       "      <td>26.60</td>\n",
       "    </tr>\n",
       "    <tr>\n",
       "      <th>18</th>\n",
       "      <td>28.8</td>\n",
       "      <td>18.6</td>\n",
       "      <td>19.88</td>\n",
       "    </tr>\n",
       "    <tr>\n",
       "      <th>19</th>\n",
       "      <td>32.3</td>\n",
       "      <td>31.5</td>\n",
       "      <td>30.20</td>\n",
       "    </tr>\n",
       "    <tr>\n",
       "      <th>20</th>\n",
       "      <td>25.4</td>\n",
       "      <td>36.7</td>\n",
       "      <td>34.36</td>\n",
       "    </tr>\n",
       "    <tr>\n",
       "      <th>21</th>\n",
       "      <td>42.8</td>\n",
       "      <td>20.9</td>\n",
       "      <td>21.72</td>\n",
       "    </tr>\n",
       "    <tr>\n",
       "      <th>22</th>\n",
       "      <td>30.2</td>\n",
       "      <td>24.5</td>\n",
       "      <td>24.70</td>\n",
       "    </tr>\n",
       "    <tr>\n",
       "      <th>23</th>\n",
       "      <td>33.5</td>\n",
       "      <td>17.9</td>\n",
       "      <td>19.42</td>\n",
       "    </tr>\n",
       "    <tr>\n",
       "      <th>24</th>\n",
       "      <td>30.1</td>\n",
       "      <td>29.5</td>\n",
       "      <td>28.60</td>\n",
       "    </tr>\n",
       "    <tr>\n",
       "      <th>25</th>\n",
       "      <td>22.4</td>\n",
       "      <td>34.0</td>\n",
       "      <td>32.20</td>\n",
       "    </tr>\n",
       "    <tr>\n",
       "      <th>26</th>\n",
       "      <td>22.8</td>\n",
       "      <td>17.8</td>\n",
       "      <td>19.24</td>\n",
       "    </tr>\n",
       "    <tr>\n",
       "      <th>27</th>\n",
       "      <td>33.6</td>\n",
       "      <td>30.0</td>\n",
       "      <td>29.00</td>\n",
       "    </tr>\n",
       "    <tr>\n",
       "      <th>28</th>\n",
       "      <td>39.4</td>\n",
       "      <td>41.9</td>\n",
       "      <td>38.52</td>\n",
       "    </tr>\n",
       "    <tr>\n",
       "      <th>29</th>\n",
       "      <td>27.6</td>\n",
       "      <td>24.4</td>\n",
       "      <td>24.42</td>\n",
       "    </tr>\n",
       "    <tr>\n",
       "      <th>30</th>\n",
       "      <td>35.4</td>\n",
       "      <td>31.5</td>\n",
       "      <td>30.10</td>\n",
       "    </tr>\n",
       "    <tr>\n",
       "      <th>31</th>\n",
       "      <td>28.8</td>\n",
       "      <td>37.8</td>\n",
       "      <td>35.24</td>\n",
       "    </tr>\n",
       "    <tr>\n",
       "      <th>32</th>\n",
       "      <td>38.1</td>\n",
       "      <td>34.8</td>\n",
       "      <td>32.84</td>\n",
       "    </tr>\n",
       "    <tr>\n",
       "      <th>33</th>\n",
       "      <td>31.8</td>\n",
       "      <td>40.0</td>\n",
       "      <td>37.00</td>\n",
       "    </tr>\n",
       "    <tr>\n",
       "      <th>34</th>\n",
       "      <td>16.3</td>\n",
       "      <td>34.4</td>\n",
       "      <td>32.42</td>\n",
       "    </tr>\n",
       "    <tr>\n",
       "      <th>35</th>\n",
       "      <td>24.3</td>\n",
       "      <td>36.7</td>\n",
       "      <td>34.36</td>\n",
       "    </tr>\n",
       "    <tr>\n",
       "      <th>36</th>\n",
       "      <td>20.9</td>\n",
       "      <td>40.2</td>\n",
       "      <td>37.06</td>\n",
       "    </tr>\n",
       "    <tr>\n",
       "      <th>37</th>\n",
       "      <td>29.0</td>\n",
       "      <td>35.3</td>\n",
       "      <td>33.24</td>\n",
       "    </tr>\n",
       "    <tr>\n",
       "      <th>38</th>\n",
       "      <td>38.1</td>\n",
       "      <td>23.4</td>\n",
       "      <td>23.72</td>\n",
       "    </tr>\n",
       "    <tr>\n",
       "      <th>39</th>\n",
       "      <td>27.1</td>\n",
       "      <td>28.7</td>\n",
       "      <td>27.96</td>\n",
       "    </tr>\n",
       "  </tbody>\n",
       "</table>\n",
       "</div>"
      ],
      "text/plain": [
       "      x2    x3     x4\n",
       "0   36.4  35.1  33.18\n",
       "1   28.2  19.2  20.36\n",
       "2   32.1  22.4  22.82\n",
       "3   26.1  35.6  33.28\n",
       "4   44.5  19.1  20.28\n",
       "5   24.6  21.5  22.30\n",
       "6   40.0  31.1  29.88\n",
       "7   31.1  26.1  25.98\n",
       "8   34.8  32.0  30.70\n",
       "9   29.0  38.7  35.96\n",
       "10  34.9  37.9  35.32\n",
       "11  34.0  22.0  22.60\n",
       "12  33.8  38.6  35.88\n",
       "13  35.5  24.7  24.76\n",
       "14  28.4  30.4  29.32\n",
       "15  31.4  31.7  30.46\n",
       "16  19.3  36.0  33.90\n",
       "17  25.9  27.0  26.60\n",
       "18  28.8  18.6  19.88\n",
       "19  32.3  31.5  30.20\n",
       "20  25.4  36.7  34.36\n",
       "21  42.8  20.9  21.72\n",
       "22  30.2  24.5  24.70\n",
       "23  33.5  17.9  19.42\n",
       "24  30.1  29.5  28.60\n",
       "25  22.4  34.0  32.20\n",
       "26  22.8  17.8  19.24\n",
       "27  33.6  30.0  29.00\n",
       "28  39.4  41.9  38.52\n",
       "29  27.6  24.4  24.42\n",
       "30  35.4  31.5  30.10\n",
       "31  28.8  37.8  35.24\n",
       "32  38.1  34.8  32.84\n",
       "33  31.8  40.0  37.00\n",
       "34  16.3  34.4  32.42\n",
       "35  24.3  36.7  34.36\n",
       "36  20.9  40.2  37.06\n",
       "37  29.0  35.3  33.24\n",
       "38  38.1  23.4  23.72\n",
       "39  27.1  28.7  27.96"
      ]
     },
     "execution_count": 347,
     "metadata": {},
     "output_type": "execute_result"
    }
   ],
   "source": [
    "X"
   ]
  },
  {
   "cell_type": "code",
   "execution_count": 348,
   "metadata": {},
   "outputs": [
    {
     "data": {
      "text/plain": [
       "0     59.80333\n",
       "1     10.78000\n",
       "2     34.96333\n",
       "3     35.87333\n",
       "4     25.14667\n",
       "5     33.84333\n",
       "6     34.04667\n",
       "7     28.09000\n",
       "8     48.36333\n",
       "9     20.19333\n",
       "10    45.76000\n",
       "11    35.83333\n",
       "12    28.99333\n",
       "13    24.89333\n",
       "14    29.86000\n",
       "15    42.08333\n",
       "16    28.26333\n",
       "17    28.97333\n",
       "18    20.66000\n",
       "19    31.08000\n",
       "20    33.76667\n",
       "21    42.90000\n",
       "22    28.27000\n",
       "23    28.30333\n",
       "24    13.49333\n",
       "25    31.80667\n",
       "26    13.08667\n",
       "27    27.32667\n",
       "28    54.32667\n",
       "29    33.19667\n",
       "30    15.55667\n",
       "31    27.35333\n",
       "32    31.20000\n",
       "33    32.24667\n",
       "34    25.08333\n",
       "35    47.10667\n",
       "36    26.48333\n",
       "37    52.80666\n",
       "38    26.74667\n",
       "39    36.38667\n",
       "Name: y, dtype: float64"
      ]
     },
     "execution_count": 348,
     "metadata": {},
     "output_type": "execute_result"
    }
   ],
   "source": [
    "y"
   ]
  },
  {
   "cell_type": "markdown",
   "metadata": {},
   "source": [
    "Используя библиотеку <b>pandas</b> построим корреляционную матрицу по столбцам <b>x2</b>, <b>x3</b> и <b>x4</b>."
   ]
  },
  {
   "cell_type": "code",
   "execution_count": 349,
   "metadata": {
    "scrolled": true
   },
   "outputs": [
    {
     "name": "stdout",
     "output_type": "stream",
     "text": [
      "          x2        x3        x4\n",
      "x2  1.000000 -0.178359 -0.176805\n",
      "x3 -0.178359  1.000000  0.999935\n",
      "x4 -0.176805  0.999935  1.000000\n"
     ]
    }
   ],
   "source": [
    "df = pd.DataFrame([data.x2, data.x3, data.x4]).transpose()\n",
    "print(df.corr())"
   ]
  },
  {
   "cell_type": "code",
   "execution_count": 350,
   "metadata": {
    "scrolled": true
   },
   "outputs": [
    {
     "data": {
      "image/png": "[encoded data removed]",
      "text/plain": [
       "<Figure size 432x288 with 2 Axes>"
      ]
     },
     "metadata": {
      "needs_background": "light"
     },
     "output_type": "display_data"
    }
   ],
   "source": [
    "sn.heatmap(df.corr(), cmap=cm.coolwarm, annot=True)\n",
    "plt.show()"
   ]
  },
  {
   "cell_type": "markdown",
   "metadata": {},
   "source": [
    "* `x2` и `x3` слабо коррелируют (коэффициент корреляции равен `-0.178359`)\n",
    "* `x2` и `x4` слабо коррелируют (коэффициент корреляции равен `-0.176805`)\n",
    "* `x3` и `x4` сильно коррелируют (коэффициент корреляции равен `0.999935`, практически `1`)"
   ]
  },
  {
   "cell_type": "markdown",
   "metadata": {},
   "source": [
    "Таким образом, мы убедились в том, что два признака (объясняющие переменные) действительно почти линейно зависимы."
   ]
  },
  {
   "cell_type": "markdown",
   "metadata": {},
   "source": [
    "<h2>Метод наименьших квадратов</h2>"
   ]
  },
  {
   "cell_type": "markdown",
   "metadata": {},
   "source": [
    "Согласно МНК для множественной регрессии имеем формулу для оценки коэффициентов: \n",
    "\\begin{equation*}\n",
    "\\beta = (X^T\\cdot X)^{-1}\\cdot X^T \\cdot y\n",
    "\\end{equation*}"
   ]
  },
  {
   "cell_type": "markdown",
   "metadata": {},
   "source": [
    "В нашем случае `y = X * beta + eps = beta1 + beta2 * x2 + beta3 * x3 + beta4 * x4`."
   ]
  },
  {
   "cell_type": "markdown",
   "metadata": {},
   "source": [
    "Разделим выборку на обучающую и тестовую выборки:"
   ]
  },
  {
   "cell_type": "code",
   "execution_count": 351,
   "metadata": {},
   "outputs": [],
   "source": [
    "X_train, X_test, y_train, y_test = train_test_split(X, y, random_state=1514)"
   ]
  },
  {
   "cell_type": "code",
   "execution_count": 352,
   "metadata": {},
   "outputs": [
    {
     "data": {
      "text/html": [
       "<div>\n",
       "<style scoped>\n",
       "    .dataframe tbody tr th:only-of-type {\n",
       "        vertical-align: middle;\n",
       "    }\n",
       "\n",
       "    .dataframe tbody tr th {\n",
       "        vertical-align: top;\n",
       "    }\n",
       "\n",
       "    .dataframe thead th {\n",
       "        text-align: right;\n",
       "    }\n",
       "</style>\n",
       "<table border=\"1\" class=\"dataframe\">\n",
       "  <thead>\n",
       "    <tr style=\"text-align: right;\">\n",
       "      <th></th>\n",
       "      <th>x2</th>\n",
       "      <th>x3</th>\n",
       "      <th>x4</th>\n",
       "    </tr>\n",
       "  </thead>\n",
       "  <tbody>\n",
       "    <tr>\n",
       "      <th>25</th>\n",
       "      <td>22.4</td>\n",
       "      <td>34.0</td>\n",
       "      <td>32.20</td>\n",
       "    </tr>\n",
       "    <tr>\n",
       "      <th>30</th>\n",
       "      <td>35.4</td>\n",
       "      <td>31.5</td>\n",
       "      <td>30.10</td>\n",
       "    </tr>\n",
       "    <tr>\n",
       "      <th>18</th>\n",
       "      <td>28.8</td>\n",
       "      <td>18.6</td>\n",
       "      <td>19.88</td>\n",
       "    </tr>\n",
       "    <tr>\n",
       "      <th>15</th>\n",
       "      <td>31.4</td>\n",
       "      <td>31.7</td>\n",
       "      <td>30.46</td>\n",
       "    </tr>\n",
       "    <tr>\n",
       "      <th>16</th>\n",
       "      <td>19.3</td>\n",
       "      <td>36.0</td>\n",
       "      <td>33.90</td>\n",
       "    </tr>\n",
       "    <tr>\n",
       "      <th>4</th>\n",
       "      <td>44.5</td>\n",
       "      <td>19.1</td>\n",
       "      <td>20.28</td>\n",
       "    </tr>\n",
       "    <tr>\n",
       "      <th>11</th>\n",
       "      <td>34.0</td>\n",
       "      <td>22.0</td>\n",
       "      <td>22.60</td>\n",
       "    </tr>\n",
       "    <tr>\n",
       "      <th>22</th>\n",
       "      <td>30.2</td>\n",
       "      <td>24.5</td>\n",
       "      <td>24.70</td>\n",
       "    </tr>\n",
       "    <tr>\n",
       "      <th>38</th>\n",
       "      <td>38.1</td>\n",
       "      <td>23.4</td>\n",
       "      <td>23.72</td>\n",
       "    </tr>\n",
       "    <tr>\n",
       "      <th>10</th>\n",
       "      <td>34.9</td>\n",
       "      <td>37.9</td>\n",
       "      <td>35.32</td>\n",
       "    </tr>\n",
       "    <tr>\n",
       "      <th>5</th>\n",
       "      <td>24.6</td>\n",
       "      <td>21.5</td>\n",
       "      <td>22.30</td>\n",
       "    </tr>\n",
       "    <tr>\n",
       "      <th>31</th>\n",
       "      <td>28.8</td>\n",
       "      <td>37.8</td>\n",
       "      <td>35.24</td>\n",
       "    </tr>\n",
       "    <tr>\n",
       "      <th>9</th>\n",
       "      <td>29.0</td>\n",
       "      <td>38.7</td>\n",
       "      <td>35.96</td>\n",
       "    </tr>\n",
       "    <tr>\n",
       "      <th>26</th>\n",
       "      <td>22.8</td>\n",
       "      <td>17.8</td>\n",
       "      <td>19.24</td>\n",
       "    </tr>\n",
       "    <tr>\n",
       "      <th>23</th>\n",
       "      <td>33.5</td>\n",
       "      <td>17.9</td>\n",
       "      <td>19.42</td>\n",
       "    </tr>\n",
       "    <tr>\n",
       "      <th>39</th>\n",
       "      <td>27.1</td>\n",
       "      <td>28.7</td>\n",
       "      <td>27.96</td>\n",
       "    </tr>\n",
       "    <tr>\n",
       "      <th>34</th>\n",
       "      <td>16.3</td>\n",
       "      <td>34.4</td>\n",
       "      <td>32.42</td>\n",
       "    </tr>\n",
       "    <tr>\n",
       "      <th>33</th>\n",
       "      <td>31.8</td>\n",
       "      <td>40.0</td>\n",
       "      <td>37.00</td>\n",
       "    </tr>\n",
       "    <tr>\n",
       "      <th>19</th>\n",
       "      <td>32.3</td>\n",
       "      <td>31.5</td>\n",
       "      <td>30.20</td>\n",
       "    </tr>\n",
       "    <tr>\n",
       "      <th>20</th>\n",
       "      <td>25.4</td>\n",
       "      <td>36.7</td>\n",
       "      <td>34.36</td>\n",
       "    </tr>\n",
       "    <tr>\n",
       "      <th>24</th>\n",
       "      <td>30.1</td>\n",
       "      <td>29.5</td>\n",
       "      <td>28.60</td>\n",
       "    </tr>\n",
       "    <tr>\n",
       "      <th>0</th>\n",
       "      <td>36.4</td>\n",
       "      <td>35.1</td>\n",
       "      <td>33.18</td>\n",
       "    </tr>\n",
       "    <tr>\n",
       "      <th>3</th>\n",
       "      <td>26.1</td>\n",
       "      <td>35.6</td>\n",
       "      <td>33.28</td>\n",
       "    </tr>\n",
       "    <tr>\n",
       "      <th>35</th>\n",
       "      <td>24.3</td>\n",
       "      <td>36.7</td>\n",
       "      <td>34.36</td>\n",
       "    </tr>\n",
       "    <tr>\n",
       "      <th>7</th>\n",
       "      <td>31.1</td>\n",
       "      <td>26.1</td>\n",
       "      <td>25.98</td>\n",
       "    </tr>\n",
       "    <tr>\n",
       "      <th>28</th>\n",
       "      <td>39.4</td>\n",
       "      <td>41.9</td>\n",
       "      <td>38.52</td>\n",
       "    </tr>\n",
       "    <tr>\n",
       "      <th>6</th>\n",
       "      <td>40.0</td>\n",
       "      <td>31.1</td>\n",
       "      <td>29.88</td>\n",
       "    </tr>\n",
       "    <tr>\n",
       "      <th>1</th>\n",
       "      <td>28.2</td>\n",
       "      <td>19.2</td>\n",
       "      <td>20.36</td>\n",
       "    </tr>\n",
       "    <tr>\n",
       "      <th>12</th>\n",
       "      <td>33.8</td>\n",
       "      <td>38.6</td>\n",
       "      <td>35.88</td>\n",
       "    </tr>\n",
       "    <tr>\n",
       "      <th>14</th>\n",
       "      <td>28.4</td>\n",
       "      <td>30.4</td>\n",
       "      <td>29.32</td>\n",
       "    </tr>\n",
       "  </tbody>\n",
       "</table>\n",
       "</div>"
      ],
      "text/plain": [
       "      x2    x3     x4\n",
       "25  22.4  34.0  32.20\n",
       "30  35.4  31.5  30.10\n",
       "18  28.8  18.6  19.88\n",
       "15  31.4  31.7  30.46\n",
       "16  19.3  36.0  33.90\n",
       "4   44.5  19.1  20.28\n",
       "11  34.0  22.0  22.60\n",
       "22  30.2  24.5  24.70\n",
       "38  38.1  23.4  23.72\n",
       "10  34.9  37.9  35.32\n",
       "5   24.6  21.5  22.30\n",
       "31  28.8  37.8  35.24\n",
       "9   29.0  38.7  35.96\n",
       "26  22.8  17.8  19.24\n",
       "23  33.5  17.9  19.42\n",
       "39  27.1  28.7  27.96\n",
       "34  16.3  34.4  32.42\n",
       "33  31.8  40.0  37.00\n",
       "19  32.3  31.5  30.20\n",
       "20  25.4  36.7  34.36\n",
       "24  30.1  29.5  28.60\n",
       "0   36.4  35.1  33.18\n",
       "3   26.1  35.6  33.28\n",
       "35  24.3  36.7  34.36\n",
       "7   31.1  26.1  25.98\n",
       "28  39.4  41.9  38.52\n",
       "6   40.0  31.1  29.88\n",
       "1   28.2  19.2  20.36\n",
       "12  33.8  38.6  35.88\n",
       "14  28.4  30.4  29.32"
      ]
     },
     "execution_count": 352,
     "metadata": {},
     "output_type": "execute_result"
    }
   ],
   "source": [
    "X_train"
   ]
  },
  {
   "cell_type": "code",
   "execution_count": 353,
   "metadata": {},
   "outputs": [
    {
     "data": {
      "text/plain": [
       "25    31.80667\n",
       "30    15.55667\n",
       "18    20.66000\n",
       "15    42.08333\n",
       "16    28.26333\n",
       "4     25.14667\n",
       "11    35.83333\n",
       "22    28.27000\n",
       "38    26.74667\n",
       "10    45.76000\n",
       "5     33.84333\n",
       "31    27.35333\n",
       "9     20.19333\n",
       "26    13.08667\n",
       "23    28.30333\n",
       "39    36.38667\n",
       "34    25.08333\n",
       "33    32.24667\n",
       "19    31.08000\n",
       "20    33.76667\n",
       "24    13.49333\n",
       "0     59.80333\n",
       "3     35.87333\n",
       "35    47.10667\n",
       "7     28.09000\n",
       "28    54.32667\n",
       "6     34.04667\n",
       "1     10.78000\n",
       "12    28.99333\n",
       "14    29.86000\n",
       "Name: y, dtype: float64"
      ]
     },
     "execution_count": 353,
     "metadata": {},
     "output_type": "execute_result"
    }
   ],
   "source": [
    "y_train"
   ]
  },
  {
   "cell_type": "code",
   "execution_count": 354,
   "metadata": {
    "scrolled": false
   },
   "outputs": [
    {
     "data": {
      "text/html": [
       "<div>\n",
       "<style scoped>\n",
       "    .dataframe tbody tr th:only-of-type {\n",
       "        vertical-align: middle;\n",
       "    }\n",
       "\n",
       "    .dataframe tbody tr th {\n",
       "        vertical-align: top;\n",
       "    }\n",
       "\n",
       "    .dataframe thead th {\n",
       "        text-align: right;\n",
       "    }\n",
       "</style>\n",
       "<table border=\"1\" class=\"dataframe\">\n",
       "  <thead>\n",
       "    <tr style=\"text-align: right;\">\n",
       "      <th></th>\n",
       "      <th>x2</th>\n",
       "      <th>x3</th>\n",
       "      <th>x4</th>\n",
       "    </tr>\n",
       "  </thead>\n",
       "  <tbody>\n",
       "    <tr>\n",
       "      <th>8</th>\n",
       "      <td>34.8</td>\n",
       "      <td>32.0</td>\n",
       "      <td>30.70</td>\n",
       "    </tr>\n",
       "    <tr>\n",
       "      <th>21</th>\n",
       "      <td>42.8</td>\n",
       "      <td>20.9</td>\n",
       "      <td>21.72</td>\n",
       "    </tr>\n",
       "    <tr>\n",
       "      <th>27</th>\n",
       "      <td>33.6</td>\n",
       "      <td>30.0</td>\n",
       "      <td>29.00</td>\n",
       "    </tr>\n",
       "    <tr>\n",
       "      <th>37</th>\n",
       "      <td>29.0</td>\n",
       "      <td>35.3</td>\n",
       "      <td>33.24</td>\n",
       "    </tr>\n",
       "    <tr>\n",
       "      <th>2</th>\n",
       "      <td>32.1</td>\n",
       "      <td>22.4</td>\n",
       "      <td>22.82</td>\n",
       "    </tr>\n",
       "    <tr>\n",
       "      <th>17</th>\n",
       "      <td>25.9</td>\n",
       "      <td>27.0</td>\n",
       "      <td>26.60</td>\n",
       "    </tr>\n",
       "    <tr>\n",
       "      <th>29</th>\n",
       "      <td>27.6</td>\n",
       "      <td>24.4</td>\n",
       "      <td>24.42</td>\n",
       "    </tr>\n",
       "    <tr>\n",
       "      <th>36</th>\n",
       "      <td>20.9</td>\n",
       "      <td>40.2</td>\n",
       "      <td>37.06</td>\n",
       "    </tr>\n",
       "    <tr>\n",
       "      <th>13</th>\n",
       "      <td>35.5</td>\n",
       "      <td>24.7</td>\n",
       "      <td>24.76</td>\n",
       "    </tr>\n",
       "    <tr>\n",
       "      <th>32</th>\n",
       "      <td>38.1</td>\n",
       "      <td>34.8</td>\n",
       "      <td>32.84</td>\n",
       "    </tr>\n",
       "  </tbody>\n",
       "</table>\n",
       "</div>"
      ],
      "text/plain": [
       "      x2    x3     x4\n",
       "8   34.8  32.0  30.70\n",
       "21  42.8  20.9  21.72\n",
       "27  33.6  30.0  29.00\n",
       "37  29.0  35.3  33.24\n",
       "2   32.1  22.4  22.82\n",
       "17  25.9  27.0  26.60\n",
       "29  27.6  24.4  24.42\n",
       "36  20.9  40.2  37.06\n",
       "13  35.5  24.7  24.76\n",
       "32  38.1  34.8  32.84"
      ]
     },
     "execution_count": 354,
     "metadata": {},
     "output_type": "execute_result"
    }
   ],
   "source": [
    "X_test"
   ]
  },
  {
   "cell_type": "code",
   "execution_count": 355,
   "metadata": {},
   "outputs": [
    {
     "data": {
      "text/plain": [
       "8     48.36333\n",
       "21    42.90000\n",
       "27    27.32667\n",
       "37    52.80666\n",
       "2     34.96333\n",
       "17    28.97333\n",
       "29    33.19667\n",
       "36    26.48333\n",
       "13    24.89333\n",
       "32    31.20000\n",
       "Name: y, dtype: float64"
      ]
     },
     "execution_count": 355,
     "metadata": {},
     "output_type": "execute_result"
    }
   ],
   "source": [
    "y_test"
   ]
  },
  {
   "cell_type": "code",
   "execution_count": 356,
   "metadata": {},
   "outputs": [],
   "source": [
    "X_train.index = np.arange(len(X_train))\n",
    "X_test.index = np.arange(len(X_test))"
   ]
  },
  {
   "cell_type": "markdown",
   "metadata": {},
   "source": [
    "Подготовим матрицы признаков для вычисления коэффициентов `beta`:"
   ]
  },
  {
   "cell_type": "code",
   "execution_count": 357,
   "metadata": {},
   "outputs": [],
   "source": [
    "X_train = np.matrix(pd.concat([pd.Series(np.ones(X_train.shape[0], dtype=int)), X_train], axis=1))\n",
    "X_test = np.matrix(pd.concat([pd.Series(np.ones(X_test.shape[0], dtype=int)), X_test], axis=1))"
   ]
  },
  {
   "cell_type": "code",
   "execution_count": 358,
   "metadata": {},
   "outputs": [
    {
     "data": {
      "text/plain": [
       "matrix([[ 1.  , 22.4 , 34.  , 32.2 ],\n",
       "        [ 1.  , 35.4 , 31.5 , 30.1 ],\n",
       "        [ 1.  , 28.8 , 18.6 , 19.88],\n",
       "        [ 1.  , 31.4 , 31.7 , 30.46],\n",
       "        [ 1.  , 19.3 , 36.  , 33.9 ],\n",
       "        [ 1.  , 44.5 , 19.1 , 20.28],\n",
       "        [ 1.  , 34.  , 22.  , 22.6 ],\n",
       "        [ 1.  , 30.2 , 24.5 , 24.7 ],\n",
       "        [ 1.  , 38.1 , 23.4 , 23.72],\n",
       "        [ 1.  , 34.9 , 37.9 , 35.32],\n",
       "        [ 1.  , 24.6 , 21.5 , 22.3 ],\n",
       "        [ 1.  , 28.8 , 37.8 , 35.24],\n",
       "        [ 1.  , 29.  , 38.7 , 35.96],\n",
       "        [ 1.  , 22.8 , 17.8 , 19.24],\n",
       "        [ 1.  , 33.5 , 17.9 , 19.42],\n",
       "        [ 1.  , 27.1 , 28.7 , 27.96],\n",
       "        [ 1.  , 16.3 , 34.4 , 32.42],\n",
       "        [ 1.  , 31.8 , 40.  , 37.  ],\n",
       "        [ 1.  , 32.3 , 31.5 , 30.2 ],\n",
       "        [ 1.  , 25.4 , 36.7 , 34.36],\n",
       "        [ 1.  , 30.1 , 29.5 , 28.6 ],\n",
       "        [ 1.  , 36.4 , 35.1 , 33.18],\n",
       "        [ 1.  , 26.1 , 35.6 , 33.28],\n",
       "        [ 1.  , 24.3 , 36.7 , 34.36],\n",
       "        [ 1.  , 31.1 , 26.1 , 25.98],\n",
       "        [ 1.  , 39.4 , 41.9 , 38.52],\n",
       "        [ 1.  , 40.  , 31.1 , 29.88],\n",
       "        [ 1.  , 28.2 , 19.2 , 20.36],\n",
       "        [ 1.  , 33.8 , 38.6 , 35.88],\n",
       "        [ 1.  , 28.4 , 30.4 , 29.32]])"
      ]
     },
     "execution_count": 358,
     "metadata": {},
     "output_type": "execute_result"
    }
   ],
   "source": [
    "X_train"
   ]
  },
  {
   "cell_type": "code",
   "execution_count": 359,
   "metadata": {},
   "outputs": [
    {
     "data": {
      "text/plain": [
       "matrix([[ 1.  , 34.8 , 32.  , 30.7 ],\n",
       "        [ 1.  , 42.8 , 20.9 , 21.72],\n",
       "        [ 1.  , 33.6 , 30.  , 29.  ],\n",
       "        [ 1.  , 29.  , 35.3 , 33.24],\n",
       "        [ 1.  , 32.1 , 22.4 , 22.82],\n",
       "        [ 1.  , 25.9 , 27.  , 26.6 ],\n",
       "        [ 1.  , 27.6 , 24.4 , 24.42],\n",
       "        [ 1.  , 20.9 , 40.2 , 37.06],\n",
       "        [ 1.  , 35.5 , 24.7 , 24.76],\n",
       "        [ 1.  , 38.1 , 34.8 , 32.84]])"
      ]
     },
     "execution_count": 359,
     "metadata": {},
     "output_type": "execute_result"
    }
   ],
   "source": [
    "X_test"
   ]
  },
  {
   "cell_type": "code",
   "execution_count": 360,
   "metadata": {},
   "outputs": [],
   "source": [
    "beta = np.linalg.inv((X_train.transpose() * X_train)) * X_train.transpose() * np.matrix(y_train).transpose() "
   ]
  },
  {
   "cell_type": "code",
   "execution_count": 361,
   "metadata": {
    "scrolled": false
   },
   "outputs": [
    {
     "name": "stdout",
     "output_type": "stream",
     "text": [
      "beta1 = -282.50367488943084 , beta2 = 0.4504631502193961 , beta3 = -42.75213750487836 , beta4 = 54.53265781266694\n"
     ]
    }
   ],
   "source": [
    "print(\"beta1 =\", float(beta[0][0]), \", beta2 =\", float(beta[1][0]), \", beta3 =\", float(beta[2][0]), \", beta4 =\", float(beta[3][0]))"
   ]
  },
  {
   "cell_type": "markdown",
   "metadata": {},
   "source": [
    "Для проверки также посчитаем коэффициенты с помощью бибилиотеки scikit-learn:"
   ]
  },
  {
   "cell_type": "code",
   "execution_count": 494,
   "metadata": {},
   "outputs": [
    {
     "name": "stdout",
     "output_type": "stream",
     "text": [
      "beta1 = -282.50367490175773 , beta2 = 0.45046315022258976 , beta3 = -42.7521375065662 , beta4 = 54.53265781479088\n"
     ]
    }
   ],
   "source": [
    "regr = LinearRegression()\n",
    "regr.fit(np.array(X_train), y_train)\n",
    "print(\"beta1 =\", float(regr.intercept_), \", beta2 =\", float(regr.coef_[1]), \", beta3 =\", float(regr.coef_[2]), \", beta4 =\", float(regr.coef_[3]))\n",
    "y_pred_scikit = regr.predict(np.array(X_test))"
   ]
  },
  {
   "cell_type": "markdown",
   "metadata": {},
   "source": [
    "Таким образом, уравнение регрессии будет выглядеть следующим образом:\n",
    "\\begin{equation*}\n",
    "y = -282.5 + 0.45\\cdot x_2 + -42.75\\cdot x_3 - 54.53\\cdot x_4  \n",
    "\\end{equation*}"
   ]
  },
  {
   "cell_type": "markdown",
   "metadata": {},
   "source": [
    "Как можно заметить, коэффициент при свободном члене получился значительно отличающимся от остальных, а коэффициент при `x2` близок к нулю, в связи с чем можно сделать вывод о низкой обобщающей способности данной модели.\n",
    "\n",
    "Можно проверить это, разбив имеющуюся выборку из 40 наблюдений на другие обучающую и тестовую выборки того же размера:"
   ]
  },
  {
   "cell_type": "code",
   "execution_count": 371,
   "metadata": {},
   "outputs": [],
   "source": [
    "X_train_new, X_test_new, y_train_new, y_test_new = train_test_split(X, y, random_state=42)"
   ]
  },
  {
   "cell_type": "code",
   "execution_count": 372,
   "metadata": {},
   "outputs": [
    {
     "data": {
      "text/html": [
       "<div>\n",
       "<style scoped>\n",
       "    .dataframe tbody tr th:only-of-type {\n",
       "        vertical-align: middle;\n",
       "    }\n",
       "\n",
       "    .dataframe tbody tr th {\n",
       "        vertical-align: top;\n",
       "    }\n",
       "\n",
       "    .dataframe thead th {\n",
       "        text-align: right;\n",
       "    }\n",
       "</style>\n",
       "<table border=\"1\" class=\"dataframe\">\n",
       "  <thead>\n",
       "    <tr style=\"text-align: right;\">\n",
       "      <th></th>\n",
       "      <th>x2</th>\n",
       "      <th>x3</th>\n",
       "      <th>x4</th>\n",
       "    </tr>\n",
       "  </thead>\n",
       "  <tbody>\n",
       "    <tr>\n",
       "      <th>25</th>\n",
       "      <td>22.4</td>\n",
       "      <td>34.0</td>\n",
       "      <td>32.20</td>\n",
       "    </tr>\n",
       "    <tr>\n",
       "      <th>9</th>\n",
       "      <td>29.0</td>\n",
       "      <td>38.7</td>\n",
       "      <td>35.96</td>\n",
       "    </tr>\n",
       "    <tr>\n",
       "      <th>13</th>\n",
       "      <td>35.5</td>\n",
       "      <td>24.7</td>\n",
       "      <td>24.76</td>\n",
       "    </tr>\n",
       "    <tr>\n",
       "      <th>31</th>\n",
       "      <td>28.8</td>\n",
       "      <td>37.8</td>\n",
       "      <td>35.24</td>\n",
       "    </tr>\n",
       "    <tr>\n",
       "      <th>34</th>\n",
       "      <td>16.3</td>\n",
       "      <td>34.4</td>\n",
       "      <td>32.42</td>\n",
       "    </tr>\n",
       "    <tr>\n",
       "      <th>8</th>\n",
       "      <td>34.8</td>\n",
       "      <td>32.0</td>\n",
       "      <td>30.70</td>\n",
       "    </tr>\n",
       "    <tr>\n",
       "      <th>17</th>\n",
       "      <td>25.9</td>\n",
       "      <td>27.0</td>\n",
       "      <td>26.60</td>\n",
       "    </tr>\n",
       "    <tr>\n",
       "      <th>24</th>\n",
       "      <td>30.1</td>\n",
       "      <td>29.5</td>\n",
       "      <td>28.60</td>\n",
       "    </tr>\n",
       "    <tr>\n",
       "      <th>0</th>\n",
       "      <td>36.4</td>\n",
       "      <td>35.1</td>\n",
       "      <td>33.18</td>\n",
       "    </tr>\n",
       "    <tr>\n",
       "      <th>33</th>\n",
       "      <td>31.8</td>\n",
       "      <td>40.0</td>\n",
       "      <td>37.00</td>\n",
       "    </tr>\n",
       "    <tr>\n",
       "      <th>5</th>\n",
       "      <td>24.6</td>\n",
       "      <td>21.5</td>\n",
       "      <td>22.30</td>\n",
       "    </tr>\n",
       "    <tr>\n",
       "      <th>11</th>\n",
       "      <td>34.0</td>\n",
       "      <td>22.0</td>\n",
       "      <td>22.60</td>\n",
       "    </tr>\n",
       "    <tr>\n",
       "      <th>1</th>\n",
       "      <td>28.2</td>\n",
       "      <td>19.2</td>\n",
       "      <td>20.36</td>\n",
       "    </tr>\n",
       "    <tr>\n",
       "      <th>29</th>\n",
       "      <td>27.6</td>\n",
       "      <td>24.4</td>\n",
       "      <td>24.42</td>\n",
       "    </tr>\n",
       "    <tr>\n",
       "      <th>21</th>\n",
       "      <td>42.8</td>\n",
       "      <td>20.9</td>\n",
       "      <td>21.72</td>\n",
       "    </tr>\n",
       "    <tr>\n",
       "      <th>2</th>\n",
       "      <td>32.1</td>\n",
       "      <td>22.4</td>\n",
       "      <td>22.82</td>\n",
       "    </tr>\n",
       "    <tr>\n",
       "      <th>30</th>\n",
       "      <td>35.4</td>\n",
       "      <td>31.5</td>\n",
       "      <td>30.10</td>\n",
       "    </tr>\n",
       "    <tr>\n",
       "      <th>36</th>\n",
       "      <td>20.9</td>\n",
       "      <td>40.2</td>\n",
       "      <td>37.06</td>\n",
       "    </tr>\n",
       "    <tr>\n",
       "      <th>3</th>\n",
       "      <td>26.1</td>\n",
       "      <td>35.6</td>\n",
       "      <td>33.28</td>\n",
       "    </tr>\n",
       "    <tr>\n",
       "      <th>35</th>\n",
       "      <td>24.3</td>\n",
       "      <td>36.7</td>\n",
       "      <td>34.36</td>\n",
       "    </tr>\n",
       "    <tr>\n",
       "      <th>23</th>\n",
       "      <td>33.5</td>\n",
       "      <td>17.9</td>\n",
       "      <td>19.42</td>\n",
       "    </tr>\n",
       "    <tr>\n",
       "      <th>32</th>\n",
       "      <td>38.1</td>\n",
       "      <td>34.8</td>\n",
       "      <td>32.84</td>\n",
       "    </tr>\n",
       "    <tr>\n",
       "      <th>10</th>\n",
       "      <td>34.9</td>\n",
       "      <td>37.9</td>\n",
       "      <td>35.32</td>\n",
       "    </tr>\n",
       "    <tr>\n",
       "      <th>22</th>\n",
       "      <td>30.2</td>\n",
       "      <td>24.5</td>\n",
       "      <td>24.70</td>\n",
       "    </tr>\n",
       "    <tr>\n",
       "      <th>18</th>\n",
       "      <td>28.8</td>\n",
       "      <td>18.6</td>\n",
       "      <td>19.88</td>\n",
       "    </tr>\n",
       "    <tr>\n",
       "      <th>20</th>\n",
       "      <td>25.4</td>\n",
       "      <td>36.7</td>\n",
       "      <td>34.36</td>\n",
       "    </tr>\n",
       "    <tr>\n",
       "      <th>7</th>\n",
       "      <td>31.1</td>\n",
       "      <td>26.1</td>\n",
       "      <td>25.98</td>\n",
       "    </tr>\n",
       "    <tr>\n",
       "      <th>14</th>\n",
       "      <td>28.4</td>\n",
       "      <td>30.4</td>\n",
       "      <td>29.32</td>\n",
       "    </tr>\n",
       "    <tr>\n",
       "      <th>28</th>\n",
       "      <td>39.4</td>\n",
       "      <td>41.9</td>\n",
       "      <td>38.52</td>\n",
       "    </tr>\n",
       "    <tr>\n",
       "      <th>38</th>\n",
       "      <td>38.1</td>\n",
       "      <td>23.4</td>\n",
       "      <td>23.72</td>\n",
       "    </tr>\n",
       "  </tbody>\n",
       "</table>\n",
       "</div>"
      ],
      "text/plain": [
       "      x2    x3     x4\n",
       "25  22.4  34.0  32.20\n",
       "9   29.0  38.7  35.96\n",
       "13  35.5  24.7  24.76\n",
       "31  28.8  37.8  35.24\n",
       "34  16.3  34.4  32.42\n",
       "8   34.8  32.0  30.70\n",
       "17  25.9  27.0  26.60\n",
       "24  30.1  29.5  28.60\n",
       "0   36.4  35.1  33.18\n",
       "33  31.8  40.0  37.00\n",
       "5   24.6  21.5  22.30\n",
       "11  34.0  22.0  22.60\n",
       "1   28.2  19.2  20.36\n",
       "29  27.6  24.4  24.42\n",
       "21  42.8  20.9  21.72\n",
       "2   32.1  22.4  22.82\n",
       "30  35.4  31.5  30.10\n",
       "36  20.9  40.2  37.06\n",
       "3   26.1  35.6  33.28\n",
       "35  24.3  36.7  34.36\n",
       "23  33.5  17.9  19.42\n",
       "32  38.1  34.8  32.84\n",
       "10  34.9  37.9  35.32\n",
       "22  30.2  24.5  24.70\n",
       "18  28.8  18.6  19.88\n",
       "20  25.4  36.7  34.36\n",
       "7   31.1  26.1  25.98\n",
       "14  28.4  30.4  29.32\n",
       "28  39.4  41.9  38.52\n",
       "38  38.1  23.4  23.72"
      ]
     },
     "execution_count": 372,
     "metadata": {},
     "output_type": "execute_result"
    }
   ],
   "source": [
    "X_train_new"
   ]
  },
  {
   "cell_type": "code",
   "execution_count": 373,
   "metadata": {},
   "outputs": [
    {
     "data": {
      "text/html": [
       "<div>\n",
       "<style scoped>\n",
       "    .dataframe tbody tr th:only-of-type {\n",
       "        vertical-align: middle;\n",
       "    }\n",
       "\n",
       "    .dataframe tbody tr th {\n",
       "        vertical-align: top;\n",
       "    }\n",
       "\n",
       "    .dataframe thead th {\n",
       "        text-align: right;\n",
       "    }\n",
       "</style>\n",
       "<table border=\"1\" class=\"dataframe\">\n",
       "  <thead>\n",
       "    <tr style=\"text-align: right;\">\n",
       "      <th></th>\n",
       "      <th>x2</th>\n",
       "      <th>x3</th>\n",
       "      <th>x4</th>\n",
       "    </tr>\n",
       "  </thead>\n",
       "  <tbody>\n",
       "    <tr>\n",
       "      <th>19</th>\n",
       "      <td>32.3</td>\n",
       "      <td>31.5</td>\n",
       "      <td>30.20</td>\n",
       "    </tr>\n",
       "    <tr>\n",
       "      <th>16</th>\n",
       "      <td>19.3</td>\n",
       "      <td>36.0</td>\n",
       "      <td>33.90</td>\n",
       "    </tr>\n",
       "    <tr>\n",
       "      <th>15</th>\n",
       "      <td>31.4</td>\n",
       "      <td>31.7</td>\n",
       "      <td>30.46</td>\n",
       "    </tr>\n",
       "    <tr>\n",
       "      <th>26</th>\n",
       "      <td>22.8</td>\n",
       "      <td>17.8</td>\n",
       "      <td>19.24</td>\n",
       "    </tr>\n",
       "    <tr>\n",
       "      <th>4</th>\n",
       "      <td>44.5</td>\n",
       "      <td>19.1</td>\n",
       "      <td>20.28</td>\n",
       "    </tr>\n",
       "    <tr>\n",
       "      <th>12</th>\n",
       "      <td>33.8</td>\n",
       "      <td>38.6</td>\n",
       "      <td>35.88</td>\n",
       "    </tr>\n",
       "    <tr>\n",
       "      <th>37</th>\n",
       "      <td>29.0</td>\n",
       "      <td>35.3</td>\n",
       "      <td>33.24</td>\n",
       "    </tr>\n",
       "    <tr>\n",
       "      <th>27</th>\n",
       "      <td>33.6</td>\n",
       "      <td>30.0</td>\n",
       "      <td>29.00</td>\n",
       "    </tr>\n",
       "    <tr>\n",
       "      <th>39</th>\n",
       "      <td>27.1</td>\n",
       "      <td>28.7</td>\n",
       "      <td>27.96</td>\n",
       "    </tr>\n",
       "    <tr>\n",
       "      <th>6</th>\n",
       "      <td>40.0</td>\n",
       "      <td>31.1</td>\n",
       "      <td>29.88</td>\n",
       "    </tr>\n",
       "  </tbody>\n",
       "</table>\n",
       "</div>"
      ],
      "text/plain": [
       "      x2    x3     x4\n",
       "19  32.3  31.5  30.20\n",
       "16  19.3  36.0  33.90\n",
       "15  31.4  31.7  30.46\n",
       "26  22.8  17.8  19.24\n",
       "4   44.5  19.1  20.28\n",
       "12  33.8  38.6  35.88\n",
       "37  29.0  35.3  33.24\n",
       "27  33.6  30.0  29.00\n",
       "39  27.1  28.7  27.96\n",
       "6   40.0  31.1  29.88"
      ]
     },
     "execution_count": 373,
     "metadata": {},
     "output_type": "execute_result"
    }
   ],
   "source": [
    "X_test_new"
   ]
  },
  {
   "cell_type": "code",
   "execution_count": 375,
   "metadata": {},
   "outputs": [
    {
     "name": "stdout",
     "output_type": "stream",
     "text": [
      "beta1 = -185.90549131773764 , beta2 = 0.6173505490170668 , beta3 = -27.980454840237115 , beta4 = 35.80943036710462\n"
     ]
    }
   ],
   "source": [
    "X_train_new.index = np.arange(len(X_train_new))\n",
    "X_train_new = np.matrix(pd.concat([pd.Series(np.ones(X_train_new.shape[0], dtype=int)), X_train_new], axis=1))\n",
    "beta_new = np.linalg.inv((X_train_new.transpose() * X_train_new)) * X_train_new.transpose() * np.matrix(y_train_new).transpose() \n",
    "print(\"beta1 =\", float(beta_new[0][0]), \", beta2 =\", float(beta_new[1][0]), \", beta3 =\", float(beta_new[2][0]), \", beta4 =\", float(beta_new[3][0]))"
   ]
  },
  {
   "cell_type": "markdown",
   "metadata": {},
   "source": [
    "Снова проверим с помощью библиотеки scikit-learn:"
   ]
  },
  {
   "cell_type": "code",
   "execution_count": 496,
   "metadata": {},
   "outputs": [
    {
     "name": "stdout",
     "output_type": "stream",
     "text": [
      "beta1 = -185.90549131956413 , beta2 = 0.6173505489285747 , beta3 = -27.98045484104717 , beta4 = 35.80943036809439\n"
     ]
    }
   ],
   "source": [
    "regr.fit(np.array(X_train_new), y_train_new)\n",
    "print(\"beta1 =\", float(regr.intercept_), \", beta2 =\", float(regr.coef_[1]), \", beta3 =\", float(regr.coef_[2]), \", beta4 =\", float(regr.coef_[3]))"
   ]
  },
  {
   "cell_type": "markdown",
   "metadata": {},
   "source": [
    "Новые коэффициенты значительно отличаются от посчитанных до этого – модель сильно 'подгоняется' под обучающую выборку, что неудивительно, так как в случае, когда между объясняющими переменными возникает зависимость, очень близкая к линейной, оценки МНК при тесно коррелирующих переменных имеют низкую точность и чувствительны к небольшим изменениям в данных. "
   ]
  },
  {
   "cell_type": "markdown",
   "metadata": {},
   "source": [
    "Найдем значение `mse` на тестовой выборке `X_test`:"
   ]
  },
  {
   "cell_type": "code",
   "execution_count": 377,
   "metadata": {},
   "outputs": [],
   "source": [
    "def predict(x2, x3, x4, beta1, beta2, beta3, beta4):\n",
    "    return float(beta1) + float(beta2) * x2 + float(beta3) * x3 + float(beta4) * x4"
   ]
  },
  {
   "cell_type": "code",
   "execution_count": 495,
   "metadata": {},
   "outputs": [
    {
     "name": "stdout",
     "output_type": "stream",
     "text": [
      "mse на тестовой выборке = 123.34444830015607\n",
      "mse scikit-learn на тестовой выборке = 123.34444830015607\n",
      "mse на модели, построенной с помощью scikit-learn на тестовой выборке = 123.3444483170774\n"
     ]
    }
   ],
   "source": [
    "y_pred = [predict(np.array(X_test)[i, 1], np.array(X_test)[i, 2], np.array(X_test)[i, 3], beta[0][0], beta[1][0], beta[2][0], beta[3][0]) for i in range(len(X_test))]\n",
    "mse = np.mean([abs(np.array(y_test)[i] - y_pred[i])**2 for i in range(len(X_test))])\n",
    "print('mse на тестовой выборке =', mse)\n",
    "print('mse scikit-learn на тестовой выборке =', mean_squared_error(y_test, y_pred))\n",
    "print('mse на модели, построенной с помощью scikit-learn на тестовой выборке =', mean_squared_error(y_test, y_pred_scikit))"
   ]
  },
  {
   "cell_type": "markdown",
   "metadata": {},
   "source": [
    "Как можно заметить, значение `mse`достаточно велико."
   ]
  },
  {
   "attachments": {},
   "cell_type": "markdown",
   "metadata": {},
   "source": [
    "<h2>Ридж-регрессия</h2>\n",
    "Когда мы работаем с обычной регрессией, нас интересует минимизация функционала среднеквадратичной ошибки:\n",
    "$\\sum_{i=1}^{n} (y_{i} - \\hat{y_{i}})^ 2  \\rightarrow 0$\n",
    "\n",
    "В случае с Ридж-регрессией нас интересует минимизация несколько модифицированного функционала ошибки:\n",
    "$\\sum_{i=1}^{n} [(y_i - \\hat{y_{i}})^ 2 + \\lambda \\cdot \\beta_{i} ^ 2] \\rightarrow 0$\n",
    "\n",
    "Ридж-регрессия 'штрафует' модель за большие веса и хорошо подходит, если в матрице признаков есть почти линейно зависимые столбцы.\n",
    "\n",
    "Формула весов выглядит несколько иначе, чем в случае МНК:\n",
    "$\\beta_{ridge } = (X^T\\cdot X + \\lambda \\cdot D)^{-1}\\cdot X^T \\cdot y$"
   ]
  },
  {
   "cell_type": "code",
   "execution_count": 384,
   "metadata": {
    "scrolled": true
   },
   "outputs": [
    {
     "data": {
      "text/plain": [
       "matrix([[   30.   ,   908.4  ,   907.9  ,   876.62 ],\n",
       "        [  908.4  , 28644.68 , 27362.72 , 26442.436],\n",
       "        [  907.9  , 27362.72 , 29103.65 , 27827.99 ],\n",
       "        [  876.62 , 26442.436, 27827.99 , 26651.578]])"
      ]
     },
     "execution_count": 384,
     "metadata": {},
     "output_type": "execute_result"
    }
   ],
   "source": [
    "XTX = X_train.transpose() * X_train\n",
    "XTX"
   ]
  },
  {
   "attachments": {},
   "cell_type": "markdown",
   "metadata": {},
   "source": [
    "Посмотрим на то, как меняются значения весов модели в зависимости от значения $\\lambda$ на каждой итерации от 0 до 2 с шагом 0.1 сначала посчитанные вручную, а затем с помощью библиотеки scikit-learn.\n",
    "Возьмем в качестве матрицы `D`единичную матрицу размера 4х4, умноженную на текущее значение $\\lambda$:"
   ]
  },
  {
   "cell_type": "code",
   "execution_count": 565,
   "metadata": {},
   "outputs": [
    {
     "name": "stdout",
     "output_type": "stream",
     "text": [
      "beta1 = -282.50367488943084 , beta2 = 0.4504631502193961 , beta3 = -42.75213750487836 , beta4 = 54.53265781266694\n",
      "beta1 = -12.174211222734208 , beta2 = 0.4575370229631926 , beta3 = -0.35523437185944506 , beta4 = 1.365674684991289\n",
      "beta1 = -6.41786543525607 , beta2 = 0.4564627346110716 , beta3 = 0.5361448146045937 , beta4 = 0.24668184714502706\n",
      "beta1 = -4.44157377200488 , beta2 = 0.45529588466694954 , beta3 = 0.8347413702916628 , beta4 = -0.12893780250029496\n",
      "beta1 = -3.4408408203798633 , beta2 = 0.4541224133156224 , beta3 = 0.9805130299833669 , beta4 = -0.3128923470120867\n",
      "beta1 = -2.8354225446140364 , beta2 = 0.45295957636277046 , beta3 = 1.0644812077742873 , beta4 = -0.41932336713271035\n",
      "beta1 = -2.429119653599722 , beta2 = 0.45181279098115046 , beta3 = 1.1174193011301337 , beta4 = -0.4868213495279107\n",
      "beta1 = -2.137153462673885 , beta2 = 0.4506840563326004 , beta3 = 1.152621465765368 , beta4 = -0.5320577721670983\n",
      "beta1 = -1.9169045179280355 , beta2 = 0.44957409207097715 , beta3 = 1.1767682057632205 , beta4 = -0.5634105656927626\n",
      "beta1 = -1.7446034558595134 , beta2 = 0.448483057352115 , beta3 = 1.1935830599848838 , beta4 = -0.5855496026470286\n",
      "beta1 = -1.6059467963165472 , beta2 = 0.4474108397410727 , beta3 = 1.2053047704506126 , beta4 = -0.6012827989634336\n",
      "beta1 = -1.4918112378085833 , beta2 = 0.44635718666560475 , beta3 = 1.21335960725193 , beta4 = -0.6123992109412169\n",
      "beta1 = -1.3961030675978399 , beta2 = 0.44532177097375647 , beta3 = 1.2186987410700976 , beta4 = -0.6200921015503414\n",
      "beta1 = -1.3145968412288307 , beta2 = 0.4443042259674749 , beta3 = 1.2219804212143424 , beta4 = -0.6251873926658051\n",
      "beta1 = -1.2442702289039473 , beta2 = 0.4433041651577374 , beta3 = 1.2236743163442956 , beta4 = -0.6282745091953269\n",
      "beta1 = -1.1829041532248494 , beta2 = 0.4423211938640694 , beta3 = 1.2241242371266325 , beta4 = -0.6297850340704951\n",
      "beta1 = -1.128832468264294 , beta2 = 0.44135491623442313 , beta3 = 1.2235873995074427 , beta4 = -0.6300419451108731\n",
      "beta1 = -1.0807797609184566 , beta2 = 0.44040493957910476 , beta3 = 1.2222598638297217 , beta4 = -0.6292915163508598\n",
      "beta1 = -1.037753087516362 , beta2 = 0.4394708770702051 , beta3 = 1.220293513001614 , beta4 = -0.6277246092967412\n",
      "beta1 = -0.9989678204283998 , beta2 = 0.4385523494246644 , beta3 = 1.2178076798820627 , beta4 = -0.6254912542614688\n",
      "beta1 = -0.9637956916492472 , beta2 = 0.4376489859260448 , beta3 = 1.2148972926836306 , beta4 = -0.6227108652663125\n"
     ]
    }
   ],
   "source": [
    "beta_1 = []\n",
    "beta_2 = []\n",
    "beta_3 = []\n",
    "beta_4 = []\n",
    "mse = []\n",
    "lambdas = [i / 10 for i in range(0, 21, 1)]\n",
    "\n",
    "for l in lambdas:\n",
    "    beta_ridge = np.linalg.inv(XTX + l * np.eye(4)) * X_train.transpose() * np.matrix(y_train).transpose()\n",
    "    beta_1.append(beta_ridge[0, 0])\n",
    "    beta_2.append(beta_ridge[1, 0])\n",
    "    beta_3.append(beta_ridge[2, 0])\n",
    "    beta_4.append(beta_ridge[3, 0])\n",
    "    print(\"beta1 =\", float(beta_ridge[0][0]), \", beta2 =\", float(beta_ridge[1][0]), \", beta3 =\", float(beta_ridge[2][0]), \", beta4 =\", float(beta_ridge[3][0]))\n",
    "\n",
    "    mse.append(np.mean([abs(np.array(y_test)[i] - predict(X_test[i, 1], X_test[i, 2], X_test[i, 3], beta_ridge[0, 0], beta_ridge[1, 0], beta_ridge[2, 0], beta_ridge[3, 0]))**2 for i in range(len(X_test))]))"
   ]
  },
  {
   "cell_type": "markdown",
   "metadata": {},
   "source": [
    "scikit-learn:"
   ]
  },
  {
   "cell_type": "code",
   "execution_count": 573,
   "metadata": {},
   "outputs": [
    {
     "name": "stdout",
     "output_type": "stream",
     "text": [
      "beta1 = -282.5036749037298 , beta2 = 0.4504631502224355 , beta3 = -42.75213750687798 , beta4 = 54.532657815181445\n",
      "beta1 = -12.174211222769179 , beta2 = 0.4575370229632226 , beta3 = -0.3552343718615301 , beta4 = 1.3656746849930919\n",
      "beta1 = -6.417865435302465 , beta2 = 0.4564627346121489 , beta3 = 0.5361448146043326 , beta4 = 0.24668184714606642\n",
      "beta1 = -4.441573772018856 , beta2 = 0.45529588466747917 , beta3 = 0.8347413702912583 , beta4 = -0.12893780249960107\n",
      "beta1 = -3.440840820408681 , beta2 = 0.4541224133156617 , beta3 = 0.980513029982786 , beta4 = -0.31289234701112767\n",
      "beta1 = -2.8354225446580212 , beta2 = 0.4529595763639049 , beta3 = 1.064481207774422 , beta4 = -0.41932336713205204\n",
      "beta1 = -2.4291196536037005 , beta2 = 0.4518127909809793 , beta3 = 1.117419301130093 , beta4 = -0.48682134952757183\n",
      "beta1 = -2.1371534626495206 , beta2 = 0.4506840563320884 , beta3 = 1.1526214657648668 , beta4 = -0.5320577721665619\n",
      "beta1 = -1.9169045179182524 , beta2 = 0.44957409207087645 , beta3 = 1.1767682057632358 , beta4 = -0.5634105656929385\n",
      "beta1 = -1.7446034558885026 , beta2 = 0.4484830573526611 , beta3 = 1.1935830599851787 , beta4 = -0.5855496026473802\n",
      "beta1 = -1.6059467963106637 , beta2 = 0.4474108397410622 , beta3 = 1.205304770450256 , beta4 = -0.6012827989629919\n",
      "beta1 = -1.4918112378119142 , beta2 = 0.4463571866657858 , beta3 = 1.2133596072514456 , beta4 = -0.6123992109407004\n",
      "beta1 = -1.396103067607926 , beta2 = 0.4453217709740309 , beta3 = 1.2186987410705987 , beta4 = -0.6200921015507735\n",
      "beta1 = -1.3145968412420583 , beta2 = 0.4443042259676532 , beta3 = 1.2219804212142207 , beta4 = -0.6251873926656144\n",
      "beta1 = -1.2442702288938203 , beta2 = 0.4433041651576678 , beta3 = 1.2236743163442627 , beta4 = -0.6282745091954504\n",
      "beta1 = -1.1829041532179034 , beta2 = 0.4423211938639446 , beta3 = 1.2241242371267165 , beta4 = -0.6297850340706227\n",
      "beta1 = -1.1288324682685789 , beta2 = 0.4413549162344989 , beta3 = 1.2235873995075304 , beta4 = -0.6300419451107878\n",
      "beta1 = -1.0807797609159564 , beta2 = 0.44040493957899124 , beta3 = 1.2222598638296436 , beta4 = -0.6292915163508171\n",
      "beta1 = -1.0377530875256922 , beta2 = 0.43947087707033594 , beta3 = 1.220293513001698 , beta4 = -0.627724609296637\n",
      "beta1 = -0.9989678204259245 , beta2 = 0.4385523494245278 , beta3 = 1.2178076798818356 , beta4 = -0.6254912542611083\n",
      "beta1 = -0.9637956916486248 , beta2 = 0.43764898592594276 , beta3 = 1.2148972926833321 , beta4 = -0.6227108652660991\n"
     ]
    }
   ],
   "source": [
    "rdg = Ridge(fit_intercept=False)\n",
    "mse_scikit = []\n",
    "\n",
    "for l in lambdas:\n",
    "    rdg.set_params(alpha=l)\n",
    "    rdg.fit(np.array(X_train), y_train)\n",
    "    mse_scikit.append(mean_squared_error(y_test, rdg.predict(np.array(X_test))))\n",
    "    print(\"beta1 =\", float(rdg.coef_[0]), \", beta2 =\", float(rdg.coef_[1]), \", beta3 =\", float(rdg.coef_[2]), \", beta4 =\", float(rdg.coef_[3]))"
   ]
  },
  {
   "cell_type": "code",
   "execution_count": 567,
   "metadata": {
    "scrolled": false
   },
   "outputs": [],
   "source": [
    "def plot_lambda_beta(lambdas, beta_n, n, color='orange'):\n",
    "    plt.figure(figsize=(10, 5))\n",
    "    plt.plot(lambdas, beta_n, color=color)\n",
    "    plt.plot(lambdas, beta_n, 'bo', color=color)\n",
    "    plt.xlabel('lambda')\n",
    "    plt.ylabel('beta' + str(n))\n",
    "    plt.grid(True)"
   ]
  },
  {
   "cell_type": "code",
   "execution_count": 568,
   "metadata": {},
   "outputs": [
    {
     "data": {
      "image/png": "[encoded data removed]",
      "text/plain": [
       "<Figure size 720x360 with 1 Axes>"
      ]
     },
     "metadata": {
      "needs_background": "light"
     },
     "output_type": "display_data"
    }
   ],
   "source": [
    "plot_lambda_beta(lambdas, beta_1, 1)"
   ]
  },
  {
   "cell_type": "code",
   "execution_count": 569,
   "metadata": {
    "scrolled": true
   },
   "outputs": [
    {
     "data": {
      "image/png": "[encoded data removed]",
      "text/plain": [
       "<Figure size 720x360 with 1 Axes>"
      ]
     },
     "metadata": {
      "needs_background": "light"
     },
     "output_type": "display_data"
    }
   ],
   "source": [
    "plot_lambda_beta(lambdas, beta_2, 2, 'green')"
   ]
  },
  {
   "cell_type": "code",
   "execution_count": 570,
   "metadata": {},
   "outputs": [
    {
     "data": {
      "image/png": "[encoded data removed]",
      "text/plain": [
       "<Figure size 720x360 with 1 Axes>"
      ]
     },
     "metadata": {
      "needs_background": "light"
     },
     "output_type": "display_data"
    }
   ],
   "source": [
    "plot_lambda_beta(lambdas, beta_3, 3, 'red')"
   ]
  },
  {
   "cell_type": "code",
   "execution_count": 571,
   "metadata": {
    "scrolled": false
   },
   "outputs": [
    {
     "data": {
      "image/png": "[encoded data removed]",
      "text/plain": [
       "<Figure size 720x360 with 1 Axes>"
      ]
     },
     "metadata": {
      "needs_background": "light"
     },
     "output_type": "display_data"
    }
   ],
   "source": [
    "plot_lambda_beta(lambdas, beta_4, 4, 'purple')"
   ]
  },
  {
   "cell_type": "markdown",
   "metadata": {},
   "source": [
    "Как можно заметить, при увеличении значения $\\lambda$ коэффициенты начинают уменьшаться, устремляясь к нулю."
   ]
  },
  {
   "cell_type": "code",
   "execution_count": 515,
   "metadata": {
    "scrolled": true
   },
   "outputs": [
    {
     "name": "stdout",
     "output_type": "stream",
     "text": [
      "beta1 = -0.19573423811277124 , beta2 = 0.3729845086095906 , beta3 = 0.7320942743328538 , beta4 = -0.0796895774474749\n"
     ]
    }
   ],
   "source": [
    "beta_ridge = np.linalg.inv((XTX) + 20 * np.eye(4)) * X_train.transpose() * np.matrix(y_train).transpose()\n",
    "print(\"beta1 =\", float(beta_ridge[0][0]), \", beta2 =\", float(beta_ridge[1][0]), \", beta3 =\", float(beta_ridge[2][0]), \", beta4 =\", float(beta_ridge[3][0]))"
   ]
  },
  {
   "cell_type": "code",
   "execution_count": 516,
   "metadata": {
    "scrolled": false
   },
   "outputs": [
    {
     "name": "stdout",
     "output_type": "stream",
     "text": [
      "beta1 = -0.01585899813197003 , beta2 = 0.3364266269895351 , beta3 = 0.41285809082432656 , beta4 = 0.28181776705254546\n"
     ]
    }
   ],
   "source": [
    "beta_ridge = np.linalg.inv((XTX) + 200 * np.eye(4)) * X_train.transpose() * np.matrix(y_train).transpose()\n",
    "print(\"beta1 =\", float(beta_ridge[0][0]), \", beta2 =\", float(beta_ridge[1][0]), \", beta3 =\", float(beta_ridge[2][0]), \", beta4 =\", float(beta_ridge[3][0]))"
   ]
  },
  {
   "cell_type": "code",
   "execution_count": 583,
   "metadata": {},
   "outputs": [
    {
     "name": "stdout",
     "output_type": "stream",
     "text": [
      "beta1 = 0.008127579449894718 , beta2 = 0.3299433756602395 , beta3 = 0.3537462830259652 , beta4 = 0.3267750346874105\n"
     ]
    }
   ],
   "source": [
    "beta_ridge = np.linalg.inv((XTX) + 2000 * np.eye(4)) * X_train.transpose() * np.matrix(y_train).transpose()\n",
    "print(\"beta1 =\", float(beta_ridge[0][0]), \", beta2 =\", float(beta_ridge[1][0]), \", beta3 =\", float(beta_ridge[2][0]), \", beta4 =\", float(beta_ridge[3][0]))"
   ]
  },
  {
   "cell_type": "markdown",
   "metadata": {},
   "source": [
    "Таким образом, если и дальше увеличивать значения $\\lambda$, значения весов будут все больше устремляться к нулю. Если взять очень большое значение $\\lambda$, то все признаки буквально исключатся из модели:"
   ]
  },
  {
   "cell_type": "code",
   "execution_count": 584,
   "metadata": {},
   "outputs": [
    {
     "name": "stdout",
     "output_type": "stream",
     "text": [
      "beta1 = 0.0032604222832632946 , beta2 = 0.10059255216606584 , beta3 = 0.10312105144429397 , beta4 = 0.09885604216754622\n"
     ]
    }
   ],
   "source": [
    "beta_ridge = np.linalg.inv((XTX) + 200000 * np.eye(4)) * X_train.transpose() * np.matrix(y_train).transpose()\n",
    "print(\"beta1 =\", float(beta_ridge[0][0]), \", beta2 =\", float(beta_ridge[1][0]), \", beta3 =\", float(beta_ridge[2][0]), \", beta4 =\", float(beta_ridge[3][0]))"
   ]
  },
  {
   "cell_type": "markdown",
   "metadata": {},
   "source": [
    "Посмотрим на зависимость целевой переменной от признаков: "
   ]
  },
  {
   "cell_type": "code",
   "execution_count": 510,
   "metadata": {},
   "outputs": [
    {
     "name": "stdout",
     "output_type": "stream",
     "text": [
      "          x2         y\n",
      "x2  1.000000  0.246096\n",
      "y   0.246096  1.000000\n"
     ]
    },
    {
     "data": {
      "image/png": "[encoded data removed]",
      "text/plain": [
       "<Figure size 432x288 with 2 Axes>"
      ]
     },
     "metadata": {
      "needs_background": "light"
     },
     "output_type": "display_data"
    }
   ],
   "source": [
    "df = pd.DataFrame([data.x2, data.y]).transpose()\n",
    "print(df.corr())\n",
    "sn.heatmap(df.corr(), cmap=cm.coolwarm, annot=True)\n",
    "plt.show()"
   ]
  },
  {
   "cell_type": "code",
   "execution_count": 511,
   "metadata": {},
   "outputs": [
    {
     "name": "stdout",
     "output_type": "stream",
     "text": [
      "          x3         y\n",
      "x3  1.000000  0.380303\n",
      "y   0.380303  1.000000\n"
     ]
    },
    {
     "data": {
      "image/png": "[encoded data removed]",
      "text/plain": [
       "<Figure size 432x288 with 2 Axes>"
      ]
     },
     "metadata": {
      "needs_background": "light"
     },
     "output_type": "display_data"
    }
   ],
   "source": [
    "df = pd.DataFrame([data.x3, data.y]).transpose()\n",
    "print(df.corr())\n",
    "sn.heatmap(df.corr(), cmap=cm.coolwarm, annot=True)\n",
    "plt.show()"
   ]
  },
  {
   "cell_type": "code",
   "execution_count": 512,
   "metadata": {},
   "outputs": [
    {
     "name": "stdout",
     "output_type": "stream",
     "text": [
      "          x4         y\n",
      "x4  1.000000  0.383352\n",
      "y   0.383352  1.000000\n"
     ]
    },
    {
     "data": {
      "image/png": "[encoded data removed]",
      "text/plain": [
       "<Figure size 432x288 with 2 Axes>"
      ]
     },
     "metadata": {
      "needs_background": "light"
     },
     "output_type": "display_data"
    }
   ],
   "source": [
    "df = pd.DataFrame([data.x4, data.y]).transpose()\n",
    "print(df.corr())\n",
    "sn.heatmap(df.corr(), cmap=cm.coolwarm, annot=True)\n",
    "plt.show()"
   ]
  },
  {
   "cell_type": "markdown",
   "metadata": {},
   "source": [
    "Как можно заметить, особой корреляции между признаками и целевой переменной нет."
   ]
  },
  {
   "cell_type": "markdown",
   "metadata": {},
   "source": [
    "Посмотрим на зависимость значения `mse` от значения $\\lambda$:"
   ]
  },
  {
   "cell_type": "code",
   "execution_count": 591,
   "metadata": {},
   "outputs": [
    {
     "data": {
      "text/plain": [
       "[123.34444830015607,\n",
       " 102.200026181851,\n",
       " 102.0565828048432,\n",
       " 102.00574087410124,\n",
       " 101.97727889061092,\n",
       " 101.95773027712913,\n",
       " 101.94269027960965,\n",
       " 101.93028965991824,\n",
       " 101.91959791338414,\n",
       " 101.91009819367028,\n",
       " 101.90147926748023,\n",
       " 101.89354161047574,\n",
       " 101.88615070979152,\n",
       " 101.87921202284123,\n",
       " 101.87265671580164,\n",
       " 101.8664331271428,\n",
       " 101.86050144309012,\n",
       " 101.8548302552727,\n",
       " 101.84939426777542,\n",
       " 101.84417272739861,\n",
       " 101.8391483243969]"
      ]
     },
     "execution_count": 591,
     "metadata": {},
     "output_type": "execute_result"
    }
   ],
   "source": [
    "mse"
   ]
  },
  {
   "cell_type": "code",
   "execution_count": 574,
   "metadata": {},
   "outputs": [
    {
     "data": {
      "text/plain": [
       "[123.3444483173131,\n",
       " 102.20002618220752,\n",
       " 102.05658280475595,\n",
       " 102.00574087400328,\n",
       " 101.97727889076384,\n",
       " 101.95773027700122,\n",
       " 101.94269027962916,\n",
       " 101.93028965985309,\n",
       " 101.91959791336491,\n",
       " 101.91009819376954,\n",
       " 101.9014792674151,\n",
       " 101.89354161044453,\n",
       " 101.88615070978194,\n",
       " 101.87921202288688,\n",
       " 101.87265671576965,\n",
       " 101.86643312712951,\n",
       " 101.86050144306706,\n",
       " 101.85483025529234,\n",
       " 101.84939426777585,\n",
       " 101.8441727273889,\n",
       " 101.83914832443995]"
      ]
     },
     "execution_count": 574,
     "metadata": {},
     "output_type": "execute_result"
    }
   ],
   "source": [
    "mse_scikit"
   ]
  },
  {
   "cell_type": "code",
   "execution_count": 578,
   "metadata": {
    "scrolled": true
   },
   "outputs": [
    {
     "data": {
      "image/png": "[encoded data removed]",
      "text/plain": [
       "<Figure size 720x360 with 1 Axes>"
      ]
     },
     "metadata": {
      "needs_background": "light"
     },
     "output_type": "display_data"
    }
   ],
   "source": [
    "plt.figure(figsize=(10, 5))\n",
    "plt.plot(lambdas, mse, color='navy',)\n",
    "plt.plot(lambdas, mse, 'bo', color='navy')\n",
    "plt.xlabel('lambda')\n",
    "plt.ylabel('mse')\n",
    "plt.grid(True)"
   ]
  },
  {
   "cell_type": "markdown",
   "metadata": {},
   "source": [
    "Таким образом, используя Ридж-регрессию удалось несколько стабилизировать и уменьшить значения весов модели, что улучшило ее обобщающую способность и уменьшило дисперсию. Тем не менее, тружно сказать, что модель стала показывать хорошие результаты на тестовой выборке – значения `mse` все еще далеки от идеальных. Из-за очень небольшого размера выборки добиться хорошего качества на данной модели невозможно."
   ]
  }
 ],
 "metadata": {
  "kernelspec": {
   "display_name": "Python 3",
   "language": "python",
   "name": "python3"
  },
  "language_info": {
   "codemirror_mode": {
    "name": "ipython",
    "version": 3
   },
   "file_extension": ".py",
   "mimetype": "text/x-python",
   "name": "python",
   "nbconvert_exporter": "python",
   "pygments_lexer": "ipython3",
   "version": "3.7.3"
  }
 },
 "nbformat": 4,
 "nbformat_minor": 4
}
